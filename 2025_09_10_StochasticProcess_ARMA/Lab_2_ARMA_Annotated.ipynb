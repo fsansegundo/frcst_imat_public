{
 "cells": [
  {
   "cell_type": "code",
   "execution_count": 2,
   "id": "20ec459d",
   "metadata": {},
   "outputs": [],
   "source": [
    "### Load necessary libraries\n",
    "\n",
    "# plotting\n",
    "%matplotlib inline\n",
    "\n",
    "import pandas as pd\n",
    "import matplotlib.pyplot as plt\n",
    "\n",
    "from statsmodels.tsa.seasonal import seasonal_decompose\n"
   ]
  },
  {
   "cell_type": "markdown",
   "id": "7de69ea3",
   "metadata": {},
   "source": [
    "### Load dataset"
   ]
  },
  {
   "cell_type": "code",
   "execution_count": 3,
   "id": "b63d222a",
   "metadata": {},
   "outputs": [
    {
     "name": "stderr",
     "output_type": "stream",
     "text": [
      "/tmp/ipykernel_13141/2043934750.py:1: ParserWarning: Falling back to the 'python' engine because the 'c' engine does not support regex separators (separators > 1 char and different from '\\s+' are interpreted as regex); you can avoid this warning by specifying engine='python'.\n",
      "  fdata = pd.read_csv('./Lab1_Decomposition_v5/Unemployment.dat', delimiter=\", \")\n"
     ]
    },
    {
     "data": {
      "text/html": [
       "<div>\n",
       "<style scoped>\n",
       "    .dataframe tbody tr th:only-of-type {\n",
       "        vertical-align: middle;\n",
       "    }\n",
       "\n",
       "    .dataframe tbody tr th {\n",
       "        vertical-align: top;\n",
       "    }\n",
       "\n",
       "    .dataframe thead th {\n",
       "        text-align: right;\n",
       "    }\n",
       "</style>\n",
       "<table border=\"1\" class=\"dataframe\">\n",
       "  <thead>\n",
       "    <tr style=\"text-align: right;\">\n",
       "      <th></th>\n",
       "      <th>DATE</th>\n",
       "      <th>TOTAL</th>\n",
       "    </tr>\n",
       "  </thead>\n",
       "  <tbody>\n",
       "    <tr>\n",
       "      <th>0</th>\n",
       "      <td>01/01/2010</td>\n",
       "      <td>4048493</td>\n",
       "    </tr>\n",
       "    <tr>\n",
       "      <th>1</th>\n",
       "      <td>01/02/2010</td>\n",
       "      <td>4130625</td>\n",
       "    </tr>\n",
       "    <tr>\n",
       "      <th>2</th>\n",
       "      <td>01/03/2010</td>\n",
       "      <td>4166613</td>\n",
       "    </tr>\n",
       "    <tr>\n",
       "      <th>3</th>\n",
       "      <td>01/04/2010</td>\n",
       "      <td>4142425</td>\n",
       "    </tr>\n",
       "    <tr>\n",
       "      <th>4</th>\n",
       "      <td>01/05/2010</td>\n",
       "      <td>4066202</td>\n",
       "    </tr>\n",
       "  </tbody>\n",
       "</table>\n",
       "</div>"
      ],
      "text/plain": [
       "         DATE    TOTAL\n",
       "0  01/01/2010  4048493\n",
       "1  01/02/2010  4130625\n",
       "2  01/03/2010  4166613\n",
       "3  01/04/2010  4142425\n",
       "4  01/05/2010  4066202"
      ]
     },
     "execution_count": 3,
     "metadata": {},
     "output_type": "execute_result"
    }
   ],
   "source": [
    "fdata = pd.read_csv('./Lab1_Decomposition_v5/Unemployment.dat', delimiter=\", \")\n",
    "fdata.head()"
   ]
  },
  {
   "cell_type": "markdown",
   "id": "d65c2822",
   "metadata": {},
   "source": [
    "### Explore the data"
   ]
  },
  {
   "cell_type": "code",
   "execution_count": 4,
   "id": "5afef3ec",
   "metadata": {},
   "outputs": [
    {
     "name": "stdout",
     "output_type": "stream",
     "text": [
      "<class 'pandas.core.frame.DataFrame'>\n",
      "RangeIndex: 156 entries, 0 to 155\n",
      "Data columns (total 2 columns):\n",
      " #   Column  Non-Null Count  Dtype \n",
      "---  ------  --------------  ----- \n",
      " 0   DATE    156 non-null    object\n",
      " 1   TOTAL   156 non-null    int64 \n",
      "dtypes: int64(1), object(1)\n",
      "memory usage: 2.6+ KB\n"
     ]
    }
   ],
   "source": [
    "fdata.info()"
   ]
  },
  {
   "cell_type": "markdown",
   "id": "8538e5de",
   "metadata": {},
   "source": [
    "### Making the 'DATE' column a datetime type"
   ]
  },
  {
   "cell_type": "code",
   "execution_count": 5,
   "id": "5c3160e1",
   "metadata": {},
   "outputs": [
    {
     "data": {
      "text/html": [
       "<div>\n",
       "<style scoped>\n",
       "    .dataframe tbody tr th:only-of-type {\n",
       "        vertical-align: middle;\n",
       "    }\n",
       "\n",
       "    .dataframe tbody tr th {\n",
       "        vertical-align: top;\n",
       "    }\n",
       "\n",
       "    .dataframe thead th {\n",
       "        text-align: right;\n",
       "    }\n",
       "</style>\n",
       "<table border=\"1\" class=\"dataframe\">\n",
       "  <thead>\n",
       "    <tr style=\"text-align: right;\">\n",
       "      <th></th>\n",
       "      <th>DATE</th>\n",
       "      <th>TOTAL</th>\n",
       "    </tr>\n",
       "  </thead>\n",
       "  <tbody>\n",
       "    <tr>\n",
       "      <th>0</th>\n",
       "      <td>2010-01-01</td>\n",
       "      <td>4048493</td>\n",
       "    </tr>\n",
       "    <tr>\n",
       "      <th>1</th>\n",
       "      <td>2010-02-01</td>\n",
       "      <td>4130625</td>\n",
       "    </tr>\n",
       "    <tr>\n",
       "      <th>2</th>\n",
       "      <td>2010-03-01</td>\n",
       "      <td>4166613</td>\n",
       "    </tr>\n",
       "    <tr>\n",
       "      <th>3</th>\n",
       "      <td>2010-04-01</td>\n",
       "      <td>4142425</td>\n",
       "    </tr>\n",
       "    <tr>\n",
       "      <th>4</th>\n",
       "      <td>2010-05-01</td>\n",
       "      <td>4066202</td>\n",
       "    </tr>\n",
       "  </tbody>\n",
       "</table>\n",
       "</div>"
      ],
      "text/plain": [
       "        DATE    TOTAL\n",
       "0 2010-01-01  4048493\n",
       "1 2010-02-01  4130625\n",
       "2 2010-03-01  4166613\n",
       "3 2010-04-01  4142425\n",
       "4 2010-05-01  4066202"
      ]
     },
     "execution_count": 5,
     "metadata": {},
     "output_type": "execute_result"
    }
   ],
   "source": [
    "fdata[\"DATE\"] = pd.to_datetime(fdata[\"DATE\"], format=\"%d/%m/%Y\")\n",
    "fdata.head()"
   ]
  },
  {
   "cell_type": "code",
   "execution_count": 6,
   "id": "600cfce4",
   "metadata": {},
   "outputs": [
    {
     "name": "stdout",
     "output_type": "stream",
     "text": [
      "<class 'pandas.core.frame.DataFrame'>\n",
      "RangeIndex: 156 entries, 0 to 155\n",
      "Data columns (total 2 columns):\n",
      " #   Column  Non-Null Count  Dtype         \n",
      "---  ------  --------------  -----         \n",
      " 0   DATE    156 non-null    datetime64[ns]\n",
      " 1   TOTAL   156 non-null    int64         \n",
      "dtypes: datetime64[ns](1), int64(1)\n",
      "memory usage: 2.6 KB\n"
     ]
    }
   ],
   "source": [
    "fdata.info()"
   ]
  },
  {
   "cell_type": "markdown",
   "id": "d6eb1b2b",
   "metadata": {},
   "source": [
    "### Creating a Temporal Index\n",
    "\n",
    "The temporal ordering of the data is so important that it is often used as the index of the dataframe, We can achieve this as follows (`MS` stands for Month Start):\n"
   ]
  },
  {
   "cell_type": "code",
   "execution_count": 7,
   "id": "c80a59fc",
   "metadata": {},
   "outputs": [
    {
     "data": {
      "text/html": [
       "<div>\n",
       "<style scoped>\n",
       "    .dataframe tbody tr th:only-of-type {\n",
       "        vertical-align: middle;\n",
       "    }\n",
       "\n",
       "    .dataframe tbody tr th {\n",
       "        vertical-align: top;\n",
       "    }\n",
       "\n",
       "    .dataframe thead th {\n",
       "        text-align: right;\n",
       "    }\n",
       "</style>\n",
       "<table border=\"1\" class=\"dataframe\">\n",
       "  <thead>\n",
       "    <tr style=\"text-align: right;\">\n",
       "      <th></th>\n",
       "      <th>TOTAL</th>\n",
       "    </tr>\n",
       "    <tr>\n",
       "      <th>DATE</th>\n",
       "      <th></th>\n",
       "    </tr>\n",
       "  </thead>\n",
       "  <tbody>\n",
       "    <tr>\n",
       "      <th>2010-01-01</th>\n",
       "      <td>4048493</td>\n",
       "    </tr>\n",
       "    <tr>\n",
       "      <th>2010-02-01</th>\n",
       "      <td>4130625</td>\n",
       "    </tr>\n",
       "    <tr>\n",
       "      <th>2010-03-01</th>\n",
       "      <td>4166613</td>\n",
       "    </tr>\n",
       "    <tr>\n",
       "      <th>2010-04-01</th>\n",
       "      <td>4142425</td>\n",
       "    </tr>\n",
       "    <tr>\n",
       "      <th>2010-05-01</th>\n",
       "      <td>4066202</td>\n",
       "    </tr>\n",
       "  </tbody>\n",
       "</table>\n",
       "</div>"
      ],
      "text/plain": [
       "              TOTAL\n",
       "DATE               \n",
       "2010-01-01  4048493\n",
       "2010-02-01  4130625\n",
       "2010-03-01  4166613\n",
       "2010-04-01  4142425\n",
       "2010-05-01  4066202"
      ]
     },
     "execution_count": 7,
     "metadata": {},
     "output_type": "execute_result"
    }
   ],
   "source": [
    "fdata.set_index('DATE', inplace=True)\n",
    "fdata.index.freq = 'MS'\n",
    "fdata.head()"
   ]
  },
  {
   "cell_type": "markdown",
   "id": "17438c86",
   "metadata": {},
   "source": [
    "### Silent missing values: time gaps in the data\n",
    "\n",
    "The following issue we are going to address is a particular problem with time series data. As we have said, the temporal structure of the data is essential. This means that the absence of a data point at a certain time is a piece of information in itself. We call this a **time gap** in the series and it can easily go unnoticed at first sight. But such time gaps can cause problems in the analysis downstream, as some models will simply be unable to handle them. It is important to get in the habit of detecting time gaps and dealing with them.\n",
    "\n",
    "\n",
    "We can do that by first creating a sequence of time instants with the same frequency as our time series but without time gaps. We call it a **full range** below. We do this using the pandas function [`date_range`](https://pandas.pydata.org/pandas-docs/stable/reference/api/pandas.date_range.html). \n",
    "\n",
    "We then simply compare that sequence with the index of the time series:"
   ]
  },
  {
   "cell_type": "code",
   "execution_count": 8,
   "id": "6905983b",
   "metadata": {},
   "outputs": [
    {
     "name": "stdout",
     "output_type": "stream",
     "text": [
      "2010-01-01 00:00:00 2022-12-01 00:00:00\n"
     ]
    },
    {
     "data": {
      "text/plain": [
       "(DatetimeIndex(['2010-01-01', '2010-02-01', '2010-03-01', '2010-04-01',\n",
       "                '2010-05-01'],\n",
       "               dtype='datetime64[ns]', freq='MS'),\n",
       " DatetimeIndex(['2022-08-01', '2022-09-01', '2022-10-01', '2022-11-01',\n",
       "                '2022-12-01'],\n",
       "               dtype='datetime64[ns]', freq='MS'))"
      ]
     },
     "execution_count": 8,
     "metadata": {},
     "output_type": "execute_result"
    }
   ],
   "source": [
    "# Find start and end date of the rime series\n",
    "start_date = fdata.index.min()\n",
    "end_date = fdata.index.max()\n",
    "print(start_date, end_date)\n",
    "\n",
    "# Generate a full range of months\n",
    "full_range = pd.date_range(start=start_date, end=end_date, freq='MS')  # 'MS' ensures month start\n",
    "full_range[:5], full_range[-5:]"
   ]
  },
  {
   "cell_type": "markdown",
   "id": "c46df74e",
   "metadata": {},
   "source": [
    "If the `missing_months` variable below is not empty, it means that we have time gaps in the data. In this case there are no time gaps."
   ]
  },
  {
   "cell_type": "code",
   "execution_count": 9,
   "id": "e5fa6e5d",
   "metadata": {},
   "outputs": [
    {
     "data": {
      "text/plain": [
       "DatetimeIndex([], dtype='datetime64[ns]', freq='MS')"
      ]
     },
     "execution_count": 9,
     "metadata": {},
     "output_type": "execute_result"
    }
   ],
   "source": [
    "missing_months = full_range.difference(fdata.index)\n",
    "missing_months"
   ]
  },
  {
   "cell_type": "markdown",
   "id": "21468557",
   "metadata": {},
   "source": [
    "If there were time gaps the code below would fill the other variables as missing values (`NaN`), which we can then deal with later on."
   ]
  },
  {
   "cell_type": "code",
   "execution_count": 10,
   "id": "6948755f",
   "metadata": {},
   "outputs": [
    {
     "name": "stdout",
     "output_type": "stream",
     "text": [
      "<class 'pandas.core.frame.DataFrame'>\n",
      "DatetimeIndex: 156 entries, 2010-01-01 to 2022-12-01\n",
      "Freq: MS\n",
      "Data columns (total 1 columns):\n",
      " #   Column  Non-Null Count  Dtype\n",
      "---  ------  --------------  -----\n",
      " 0   TOTAL   156 non-null    int64\n",
      "dtypes: int64(1)\n",
      "memory usage: 2.4 KB\n"
     ]
    }
   ],
   "source": [
    "fdata = fdata.reindex(full_range)\n",
    "fdata.info()"
   ]
  },
  {
   "cell_type": "markdown",
   "id": "cb0bbc2a",
   "metadata": {},
   "source": [
    "We can now look for the missing values in the `TOTAL` column. "
   ]
  },
  {
   "cell_type": "code",
   "execution_count": 11,
   "id": "d088c6a5",
   "metadata": {},
   "outputs": [
    {
     "data": {
      "text/plain": [
       "TOTAL    0\n",
       "dtype: int64"
      ]
     },
     "execution_count": 11,
     "metadata": {},
     "output_type": "execute_result"
    }
   ],
   "source": [
    "fdata.isna().sum()"
   ]
  },
  {
   "cell_type": "markdown",
   "id": "866b195d",
   "metadata": {},
   "source": [
    "There are no missing values in this case. Later we will see how to deal with missing values when they do occur."
   ]
  },
  {
   "cell_type": "markdown",
   "id": "85d4ded2",
   "metadata": {},
   "source": [
    "### Time plot for the time series:"
   ]
  },
  {
   "cell_type": "code",
   "execution_count": 12,
   "id": "cd89ad2a",
   "metadata": {},
   "outputs": [
    {
     "data": {
      "image/png": "[encoded data removed]",
      "text/plain": [
       "<Figure size 800x450 with 1 Axes>"
      ]
     },
     "metadata": {},
     "output_type": "display_data"
    }
   ],
   "source": [
    "fig, ax = plt.subplots()\n",
    "fdata.plot(figsize=(8,4.5), c=\"blue\", ax= ax)\n",
    "fig.suptitle('Unemployment in Spain, monthly total from 2000 to 2020')\n",
    "ax.grid(visible=True, which='Both', axis='x')\n",
    "plt.show();plt.close()"
   ]
  },
  {
   "cell_type": "markdown",
   "id": "1479ed0c",
   "metadata": {},
   "source": [
    "### Decomposition methods"
   ]
  },
  {
   "cell_type": "code",
   "execution_count": 13,
   "id": "664bc03e",
   "metadata": {},
   "outputs": [
    {
     "data": {
      "text/html": [
       "<div>\n",
       "<style scoped>\n",
       "    .dataframe tbody tr th:only-of-type {\n",
       "        vertical-align: middle;\n",
       "    }\n",
       "\n",
       "    .dataframe tbody tr th {\n",
       "        vertical-align: top;\n",
       "    }\n",
       "\n",
       "    .dataframe thead th {\n",
       "        text-align: right;\n",
       "    }\n",
       "</style>\n",
       "<table border=\"1\" class=\"dataframe\">\n",
       "  <thead>\n",
       "    <tr style=\"text-align: right;\">\n",
       "      <th></th>\n",
       "      <th>TOTAL</th>\n",
       "    </tr>\n",
       "  </thead>\n",
       "  <tbody>\n",
       "    <tr>\n",
       "      <th>2010-01-01</th>\n",
       "      <td>4048493</td>\n",
       "    </tr>\n",
       "    <tr>\n",
       "      <th>2010-02-01</th>\n",
       "      <td>4130625</td>\n",
       "    </tr>\n",
       "    <tr>\n",
       "      <th>2010-03-01</th>\n",
       "      <td>4166613</td>\n",
       "    </tr>\n",
       "    <tr>\n",
       "      <th>2010-04-01</th>\n",
       "      <td>4142425</td>\n",
       "    </tr>\n",
       "    <tr>\n",
       "      <th>2010-05-01</th>\n",
       "      <td>4066202</td>\n",
       "    </tr>\n",
       "    <tr>\n",
       "      <th>...</th>\n",
       "      <td>...</td>\n",
       "    </tr>\n",
       "    <tr>\n",
       "      <th>2022-08-01</th>\n",
       "      <td>2924240</td>\n",
       "    </tr>\n",
       "    <tr>\n",
       "      <th>2022-09-01</th>\n",
       "      <td>2941919</td>\n",
       "    </tr>\n",
       "    <tr>\n",
       "      <th>2022-10-01</th>\n",
       "      <td>2914892</td>\n",
       "    </tr>\n",
       "    <tr>\n",
       "      <th>2022-11-01</th>\n",
       "      <td>2881380</td>\n",
       "    </tr>\n",
       "    <tr>\n",
       "      <th>2022-12-01</th>\n",
       "      <td>2837653</td>\n",
       "    </tr>\n",
       "  </tbody>\n",
       "</table>\n",
       "<p>156 rows × 1 columns</p>\n",
       "</div>"
      ],
      "text/plain": [
       "              TOTAL\n",
       "2010-01-01  4048493\n",
       "2010-02-01  4130625\n",
       "2010-03-01  4166613\n",
       "2010-04-01  4142425\n",
       "2010-05-01  4066202\n",
       "...             ...\n",
       "2022-08-01  2924240\n",
       "2022-09-01  2941919\n",
       "2022-10-01  2914892\n",
       "2022-11-01  2881380\n",
       "2022-12-01  2837653\n",
       "\n",
       "[156 rows x 1 columns]"
      ]
     },
     "execution_count": 13,
     "metadata": {},
     "output_type": "execute_result"
    }
   ],
   "source": [
    "fdata"
   ]
  },
  {
   "cell_type": "markdown",
   "id": "11298df8",
   "metadata": {},
   "source": [
    "This is how to do an additive decomposition:"
   ]
  },
  {
   "cell_type": "code",
   "execution_count": 14,
   "id": "431de694",
   "metadata": {},
   "outputs": [],
   "source": [
    "fdata_dcmp_add = seasonal_decompose(fdata['TOTAL'], model='additive')"
   ]
  },
  {
   "cell_type": "markdown",
   "id": "2cfbb282",
   "metadata": {},
   "source": [
    "And now we can look at the different components of the decomposition. Beginning with the trend component:"
   ]
  },
  {
   "cell_type": "code",
   "execution_count": 15,
   "id": "dcc821e3",
   "metadata": {},
   "outputs": [
    {
     "data": {
      "text/plain": [
       "2010-01-01             NaN\n",
       "2010-02-01             NaN\n",
       "2010-03-01             NaN\n",
       "2010-04-01             NaN\n",
       "2010-05-01             NaN\n",
       "2010-06-01             NaN\n",
       "2010-07-01    4.068360e+06\n",
       "2010-08-01    4.082992e+06\n",
       "2010-09-01    4.096979e+06\n",
       "2010-10-01    4.109229e+06\n",
       "Freq: MS, Name: trend, dtype: float64"
      ]
     },
     "execution_count": 15,
     "metadata": {},
     "output_type": "execute_result"
    }
   ],
   "source": [
    "fdata_dcmp_add.trend.head(10)"
   ]
  },
  {
   "cell_type": "markdown",
   "id": "047c82a7",
   "metadata": {},
   "source": [
    "Note the **pure periodicity** in the seasonal component. This is a characteristic of this **classical decomposition**:"
   ]
  },
  {
   "cell_type": "code",
   "execution_count": 16,
   "id": "b8e12438",
   "metadata": {},
   "outputs": [
    {
     "data": {
      "text/plain": [
       "2010-01-01     80842.168403\n",
       "2010-02-01    107996.734375\n",
       "2010-03-01    118956.321181\n",
       "2010-04-01     78346.404514\n",
       "2010-05-01        30.897569\n",
       "2010-06-01    -82320.470486\n",
       "2010-07-01   -136268.862847\n",
       "2010-08-01   -105383.043403\n",
       "2010-09-01    -75046.296875\n",
       "2010-10-01      5818.828125\n",
       "2010-11-01     23309.345486\n",
       "2010-12-01    -16282.026042\n",
       "2011-01-01     80842.168403\n",
       "2011-02-01    107996.734375\n",
       "2011-03-01    118956.321181\n",
       "2011-04-01     78346.404514\n",
       "2011-05-01        30.897569\n",
       "2011-06-01    -82320.470486\n",
       "2011-07-01   -136268.862847\n",
       "2011-08-01   -105383.043403\n",
       "2011-09-01    -75046.296875\n",
       "2011-10-01      5818.828125\n",
       "2011-11-01     23309.345486\n",
       "2011-12-01    -16282.026042\n",
       "Freq: MS, Name: seasonal, dtype: float64"
      ]
     },
     "execution_count": 16,
     "metadata": {},
     "output_type": "execute_result"
    }
   ],
   "source": [
    "fdata_dcmp_add.seasonal.head(24)"
   ]
  },
  {
   "cell_type": "markdown",
   "id": "4a590313",
   "metadata": {},
   "source": [
    "And we can get a nice graphical representation of the decomposition as follows:"
   ]
  },
  {
   "cell_type": "code",
   "execution_count": 17,
   "id": "83ba018a",
   "metadata": {},
   "outputs": [
    {
     "data": {
      "text/plain": [
       "<Figure size 640x480 with 0 Axes>"
      ]
     },
     "metadata": {},
     "output_type": "display_data"
    },
    {
     "data": {
      "image/png": "[encoded data removed]",
      "text/plain": [
       "<Figure size 640x480 with 4 Axes>"
      ]
     },
     "metadata": {},
     "output_type": "display_data"
    }
   ],
   "source": [
    "plt.figure()\n",
    "fdata_dcmp_add.plot()\n",
    "plt.show();plt.close()"
   ]
  },
  {
   "cell_type": "code",
   "execution_count": null,
   "id": "50846e52",
   "metadata": {},
   "outputs": [],
   "source": []
  }
 ],
 "metadata": {
  "kernelspec": {
   "display_name": "MLMIC25fc",
   "language": "python",
   "name": "python3"
  },
  "language_info": {
   "codemirror_mode": {
    "name": "ipython",
    "version": 3
   },
   "file_extension": ".py",
   "mimetype": "text/x-python",
   "name": "python",
   "nbconvert_exporter": "python",
   "pygments_lexer": "ipython3",
   "version": "3.10.16"
  }
 },
 "nbformat": 4,
 "nbformat_minor": 5
}
